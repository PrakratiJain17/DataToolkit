{
  "nbformat": 4,
  "nbformat_minor": 0,
  "metadata": {
    "colab": {
      "provenance": []
    },
    "kernelspec": {
      "name": "python3",
      "display_name": "Python 3"
    },
    "language_info": {
      "name": "python"
    }
  },
  "cells": [
    {
      "cell_type": "code",
      "source": [
        "#Q1. Create a 3x3 NumPy array with random integers between 1 and 100. Then, interchange its rows and columns.\n",
        "\n",
        "import numpy as np\n",
        "\n",
        "arr = np.random.randint(1, 101, size=(3, 3))\n",
        "\n",
        "interchanged_arr = arr.T\n",
        "\n",
        "print(\"Original Array:\")\n",
        "print(arr)\n",
        "print(\"\\nInterchanged Array:\")\n",
        "print(interchanged_arr)\n"
      ],
      "metadata": {
        "colab": {
          "base_uri": "https://localhost:8080/"
        },
        "id": "skhKfw-vyjSt",
        "outputId": "6a3fca13-93d8-4ff6-df7b-81dcdf5aa886"
      },
      "execution_count": 1,
      "outputs": [
        {
          "output_type": "stream",
          "name": "stdout",
          "text": [
            "Original Array:\n",
            "[[54 65 73]\n",
            " [67 71 93]\n",
            " [12  6 97]]\n",
            "\n",
            "Interchanged Array:\n",
            "[[54 67 12]\n",
            " [65 71  6]\n",
            " [73 93 97]]\n"
          ]
        }
      ]
    },
    {
      "cell_type": "code",
      "source": [
        "#Q2. Generate a 1D NumPy array with 10 elements. Reshape it into a 2x5 array, then into a 5x2 array.\n",
        "\n",
        "import numpy as np\n",
        "\n",
        "arr = np.arange(10)\n",
        "\n",
        "arr_2x5 = arr.reshape(2, 5)\n",
        "arr_5x2 = arr.reshape(5, 2)\n",
        "\n",
        "print(\"Original Array:\")\n",
        "print(arr)\n",
        "print(\"\\n2x5 Array:\")\n",
        "print(arr_2x5)\n",
        "print(\"\\n5x2 Array:\")\n",
        "print(arr_5x2)"
      ],
      "metadata": {
        "colab": {
          "base_uri": "https://localhost:8080/"
        },
        "id": "BeOoC60nyjLR",
        "outputId": "4a0341a7-540c-43f0-e078-5a0393f20824"
      },
      "execution_count": 2,
      "outputs": [
        {
          "output_type": "stream",
          "name": "stdout",
          "text": [
            "Original Array:\n",
            "[0 1 2 3 4 5 6 7 8 9]\n",
            "\n",
            "2x5 Array:\n",
            "[[0 1 2 3 4]\n",
            " [5 6 7 8 9]]\n",
            "\n",
            "5x2 Array:\n",
            "[[0 1]\n",
            " [2 3]\n",
            " [4 5]\n",
            " [6 7]\n",
            " [8 9]]\n"
          ]
        }
      ]
    },
    {
      "cell_type": "code",
      "source": [
        "#Q3. Create a 4x4 NumPy array with random float values. Add a border of zeros around it, resulting in a 6x6 array.\n",
        "\n",
        "import numpy as np\n",
        "\n",
        "arr = np.random.rand(4, 4)\n",
        "\n",
        "bordered_arr = np.pad(arr, pad_width=1, mode='constant', constant_values=0)\n",
        "\n",
        "print(\"Original Array:\")\n",
        "print(arr)\n",
        "print(\"\\nBordered Array:\")\n",
        "print(bordered_arr)\n"
      ],
      "metadata": {
        "colab": {
          "base_uri": "https://localhost:8080/"
        },
        "id": "ixnvAiA1yjDK",
        "outputId": "3eeb8ffa-d475-43b6-8a05-3fd227b56893"
      },
      "execution_count": 3,
      "outputs": [
        {
          "output_type": "stream",
          "name": "stdout",
          "text": [
            "Original Array:\n",
            "[[0.36968624 0.05830414 0.39553181 0.37522748]\n",
            " [0.20377699 0.71068911 0.04444036 0.84528839]\n",
            " [0.05009431 0.73994004 0.33675488 0.95740125]\n",
            " [0.19040874 0.66645052 0.58771548 0.54708405]]\n",
            "\n",
            "Bordered Array:\n",
            "[[0.         0.         0.         0.         0.         0.        ]\n",
            " [0.         0.36968624 0.05830414 0.39553181 0.37522748 0.        ]\n",
            " [0.         0.20377699 0.71068911 0.04444036 0.84528839 0.        ]\n",
            " [0.         0.05009431 0.73994004 0.33675488 0.95740125 0.        ]\n",
            " [0.         0.19040874 0.66645052 0.58771548 0.54708405 0.        ]\n",
            " [0.         0.         0.         0.         0.         0.        ]]\n"
          ]
        }
      ]
    },
    {
      "cell_type": "code",
      "source": [
        "#Q4. Using NumPy, create an array of integers from 10 to 60 with a step of 5.\n",
        "\n",
        "import numpy as np\n",
        "\n",
        "arr = np.arange(10, 61, 5)\n",
        "\n",
        "print(arr)\n"
      ],
      "metadata": {
        "colab": {
          "base_uri": "https://localhost:8080/"
        },
        "id": "N3Ej4eqHyi7X",
        "outputId": "db323fe9-1c89-46d2-fc18-d069a026d991"
      },
      "execution_count": 4,
      "outputs": [
        {
          "output_type": "stream",
          "name": "stdout",
          "text": [
            "[10 15 20 25 30 35 40 45 50 55 60]\n"
          ]
        }
      ]
    },
    {
      "cell_type": "code",
      "source": [
        "#Q5. Create a NumPy array of strings ['python', 'numpy', 'pandas']. Apply different case transformations (uppercase, lowercase, title case, etc.) to each element.\n",
        "\n",
        "import numpy as np\n",
        "\n",
        "arr = np.array(['PythOn', 'nUmPy', 'PandaS'])\n",
        "\n",
        "uppercase_arr = np.char.upper(arr)\n",
        "lowercase_arr = np.char.lower(arr)\n",
        "titlecase_arr = np.char.title(arr)\n",
        "\n",
        "print(\"Original Array:\")\n",
        "print(arr)\n",
        "print(\"\\nUppercase Array:\")\n",
        "print(uppercase_arr)\n",
        "print(\"\\nLowercase Array:\")\n",
        "print(lowercase_arr)\n",
        "print(\"\\nTitlecase Array:\")\n",
        "print(titlecase_arr)\n"
      ],
      "metadata": {
        "colab": {
          "base_uri": "https://localhost:8080/"
        },
        "id": "PN5ijYATyiwp",
        "outputId": "a85af151-e2b6-4256-de34-305750080b4a"
      },
      "execution_count": 5,
      "outputs": [
        {
          "output_type": "stream",
          "name": "stdout",
          "text": [
            "Original Array:\n",
            "['PythOn' 'nUmPy' 'PandaS']\n",
            "\n",
            "Uppercase Array:\n",
            "['PYTHON' 'NUMPY' 'PANDAS']\n",
            "\n",
            "Lowercase Array:\n",
            "['python' 'numpy' 'pandas']\n",
            "\n",
            "Titlecase Array:\n",
            "['Python' 'Numpy' 'Pandas']\n"
          ]
        }
      ]
    },
    {
      "cell_type": "code",
      "execution_count": null,
      "metadata": {
        "colab": {
          "base_uri": "https://localhost:8080/"
        },
        "id": "c0mWn20l_3bN",
        "outputId": "a93af588-0855-48c2-a08f-f2179d094ec5"
      },
      "outputs": [
        {
          "output_type": "stream",
          "name": "stdout",
          "text": [
            "h e l l o\n",
            "w o r l d\n",
            "n u m p y\n",
            "a r r a y\n"
          ]
        }
      ],
      "source": [
        "#6.Generate a NumPy array of words. Insert a space between each character of every word in the array.\n",
        "import numpy as np\n",
        "a=np.array(['hello', 'world', 'numpy', 'array'])\n",
        "for word in a:\n",
        "    spaced_word = ' '.join(word)\n",
        "    print(spaced_word)\n",
        "\n",
        "\n"
      ]
    },
    {
      "cell_type": "code",
      "source": [
        "#7.Create two 2D NumPy arrays and perform element-wise addition, subtraction, multiplication, and division.\n",
        "import numpy as np\n",
        "a=np.array([[1,2,3],[4,5,6]])\n",
        "b=np.array([[7,8,9],[10,11,12]])\n",
        "addition=a+b\n",
        "subtraction=a-b\n",
        "multiplication=a*b\n",
        "division=a/b\n",
        "print(a)\n",
        "print(b)\n",
        "print(\"Addition of array:\\n\",addition)\n",
        "print(\"Subtraction of arrays:\\n\",subtraction)\n",
        "print(\"Multiplication of two 2d arrays:\\n\",multiplication)\n",
        "print(\"Division of two 2d arrays:\\n\",division)"
      ],
      "metadata": {
        "colab": {
          "base_uri": "https://localhost:8080/"
        },
        "id": "MXQCsSKjBSxk",
        "outputId": "0ce64af9-be67-4ba9-9d14-3ac5ce49f070"
      },
      "execution_count": null,
      "outputs": [
        {
          "output_type": "stream",
          "name": "stdout",
          "text": [
            "[[1 2 3]\n",
            " [4 5 6]]\n",
            "[[ 7  8  9]\n",
            " [10 11 12]]\n",
            "Addition of array:\n",
            " [[ 8 10 12]\n",
            " [14 16 18]]\n",
            "Subtraction of arrays:\n",
            " [[-6 -6 -6]\n",
            " [-6 -6 -6]]\n",
            "Multiplication of two 2d arrays:\n",
            " [[ 7 16 27]\n",
            " [40 55 72]]\n",
            "Division of two 2d arrays:\n",
            " [[0.14285714 0.25       0.33333333]\n",
            " [0.4        0.45454545 0.5       ]]\n"
          ]
        }
      ]
    },
    {
      "cell_type": "code",
      "source": [
        "#8.Use NumPy to create a 5x5 identity matrix, then extract its diagonal elements.\n",
        "import numpy as np\n",
        "a=np.eye(5)\n",
        "print(a)\n",
        "print(\"Diagonal elements:\\n\",np.diag(a))"
      ],
      "metadata": {
        "colab": {
          "base_uri": "https://localhost:8080/"
        },
        "id": "-rEHmYppCYqf",
        "outputId": "531ac6b1-fd58-4dff-bba1-63664cb1bf5a"
      },
      "execution_count": null,
      "outputs": [
        {
          "output_type": "stream",
          "name": "stdout",
          "text": [
            "[[1. 0. 0. 0. 0.]\n",
            " [0. 1. 0. 0. 0.]\n",
            " [0. 0. 1. 0. 0.]\n",
            " [0. 0. 0. 1. 0.]\n",
            " [0. 0. 0. 0. 1.]]\n",
            "Diagonal elements:\n",
            " [1. 1. 1. 1. 1.]\n"
          ]
        }
      ]
    },
    {
      "cell_type": "code",
      "source": [
        "#9. Generate a NumPy array of 100 random integers between 0 and 1000. Find and display all prime numbers in this array.\n",
        "import numpy as np\n",
        "a=np.random.randint(0,1000,100)\n",
        "print(a)\n",
        "for i in a:\n",
        "    if i>1:\n",
        "        for j in range(2,i):\n",
        "            if i%j==0:\n",
        "                break\n",
        "        else:\n",
        "            print(i,end=' ')\n"
      ],
      "metadata": {
        "colab": {
          "base_uri": "https://localhost:8080/"
        },
        "id": "gdlenTjWC44-",
        "outputId": "340ea8d0-dbad-4afc-f5ed-59f9342d3425"
      },
      "execution_count": null,
      "outputs": [
        {
          "output_type": "stream",
          "name": "stdout",
          "text": [
            "[485 295 816  15 534 175 165 248   9 444 297 843 182   2 402 973 366 387\n",
            " 158 372  67 984 498  44 801 929 418 689 370 123 463  90 408 248 225 281\n",
            " 575  99 668 978 878 882 534 439 834  72 179 826  12 684 126  85 445 687\n",
            " 895 256 409 603 844 639  16 271 764 158 490 991 605 543 784 465  67  99\n",
            " 993 554 938 947 106 900 163 822 398 758 457 187 618  31 654 675 795 160\n",
            " 302 937 241 718 252 533 464  48   4 789]\n",
            "2 67 929 463 281 439 179 409 271 991 67 947 163 457 31 937 241 "
          ]
        }
      ]
    },
    {
      "cell_type": "code",
      "source": [
        "#10. Create a NumPy array representing daily temperatures for a month. Calculate and display the weekly averages.\n",
        "import numpy as np\n",
        "daily_temperature = np.random.randint(22, 25, 28)\n",
        "print(\"Daily Temperatures:\", daily_temperature)\n",
        "weekly_temperatures = daily_temperature.reshape(-1, 7)\n",
        "print(weekly_temperatures)\n",
        "weekly_average = np.mean(weekly_temperatures, axis=1)\n",
        "print(\"Weekly Averages:\", weekly_average)\n",
        "overall_average = np.mean(daily_temperature)\n",
        "print(\"Overall Monthly Average:\", overall_average)\n"
      ],
      "metadata": {
        "colab": {
          "base_uri": "https://localhost:8080/"
        },
        "id": "KDDJHmXbDg4S",
        "outputId": "d243fc1b-f67b-4bd0-8403-0dbbe860935b"
      },
      "execution_count": null,
      "outputs": [
        {
          "output_type": "stream",
          "name": "stdout",
          "text": [
            "Daily Temperatures: [24 22 23 22 22 24 24 23 23 22 24 22 23 24 23 22 22 22 22 22 23 24 22 23\n",
            " 24 24 22 24]\n",
            "[[24 22 23 22 22 24 24]\n",
            " [23 23 22 24 22 23 24]\n",
            " [23 22 22 22 22 22 23]\n",
            " [24 22 23 24 24 22 24]]\n",
            "Weekly Averages: [23.         23.         22.28571429 23.28571429]\n",
            "Overall Monthly Average: 22.892857142857142\n"
          ]
        }
      ]
    }
  ]
}